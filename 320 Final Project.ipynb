{
  "cells": [
    {
      "attachments": {},
      "cell_type": "markdown",
      "metadata": {
        "id": "V2uglib9CyOS"
      },
      "source": [
        "# S&P500 Stock Price Indicator\n",
        "Group Members: Pranav Chavali, Tejas Iyer, Pranav Peddamalla, Adithya Pradosh"
      ]
    },
    {
      "attachments": {},
      "cell_type": "markdown",
      "metadata": {
        "id": "nJkIxccADzOi"
      },
      "source": [
        "# Introduction\n",
        "The main purpose of this project is to journey through the entirety of the data science life cycle. To accomplish this we have chosen to use a data set which keeps track of S&P500 stock prices from 2014 to 2017 with an attempt to create a predictor/indicator for a particular stock. Stock trading is a prevalent occupation around the world and traders use a plethora of indicators such as RSI (relative strength index), ADI (Average directional index), and many others\n",
        "\n",
        "This is important because it has direct effects on our economy. If an indicator with high accuracy can be made this will benefit both businesses and the trader as they both will be making profits. We have also seen the negative side to this where people lose their money and we want to prevent this by creating an accurate indicator. This can be accomplished by using a large dataset which displays the historical changes for a given stock. By analyzing past trends in the market, we can begin to predict future market growth and create indicators that better fit to our data\n",
        "\n",
        "Although, we note that it is important to consider that stock predictors are seldom as accurate as they are intended to be. After all, if it was easy to predict the price of stocks, everyone would be a millionaire. \n",
        "\n",
        "There are a number of different factors that play into affecting the price of a stock. A number of these factors are intangible, and unable to be measured or manipulated as quantitative data. One example of this is news regarding a stock: when new information regarding a company is released to the public, it can have a significant impact on its stock price. After all, the price of a stock directly reflects the trust and confidence that investors have in a given product at a given time. So if news comes out which influences an investors thoughts on whether to hold or sell, this can be directly reflected in the stock price as investor’s confidence in a stock beings to either waver or intensify. \n",
        "\n",
        "With this being said, our project intends to compare a number of well performing stocks from the S&P500, an index containing the top 500 leading publicly-traded companies in the USA to each other, as well as the S&P500 itself. Afterwords, we train a model using [INSERT MODEL HERE] to predict future stock price trends for a select few companies. \n",
        "\n",
        "For the companies, we chose to narrow down on 4 companies which are Apple, Starbucks, Amazon and Microsoft. These are very well known companies which majority of people know about. Apple and Microsoft are leading tech companies, Starbucks is one of the worlds leading coffee shops and Amazon is the leading e-commerce store in the world.\n",
        "\n",
        "Throughout this project, we will go through the following stages (each item in this list will link to its respective code segments)\n",
        "1. Data Collection\n",
        "2. Data Processing\n",
        "3. Exploratory Analysis & Data Visualization\n",
        "4. Model: Analysis, Hypothesis, & ML\n",
        "5. Interpretation: Insight & Policy Decision"
      ]
    },
    {
      "cell_type": "code",
      "execution_count": null,
      "metadata": {
        "id": "yJB2dvIHCd4R"
      },
      "outputs": [],
      "source": [
        "from bs4 import BeautifulSoup\n",
        "import requests\n",
        "import numpy as np\n",
        "import matplotlib.pyplot as plt\n",
        "import pandas as pd\n",
        "import seaborn as sns\n",
        "from sklearn.linear_model import LinearRegression\n",
        "import matplotlib.dates as mdates"
      ]
    },
    {
      "attachments": {},
      "cell_type": "markdown",
      "metadata": {
        "id": "dqMRGAoXvB0d"
      },
      "source": [
        "This code performs data collection and preprocessing for multiple stocks, including S&P 500, Apple, Starbucks, Amazon, and Microsoft. It reads CSV files containing historical stock price data for each company and removes any rows with missing values using dropna. It also scrapes the S&P 500 historical prices table from a website and stores the data in a pandas DataFrame called sp_data. Overall, this code aims to gather and clean stock price data for further analysis or modeling."
      ]
    },
    {
      "attachments": {},
      "cell_type": "markdown",
      "metadata": {
        "id": "1PhfK_HsWQq_"
      },
      "source": [
        "#Data Collection:"
      ]
    },
    {
      "attachments": {},
      "cell_type": "markdown",
      "metadata": {
        "id": "-mQDPM8nWGVQ"
      },
      "source": [
        "Data Collection for Explanatory Analysis and Data Visualization: [EXPLAIN CODE HERE]"
      ]
    },
    {
      "cell_type": "code",
      "execution_count": null,
      "metadata": {
        "id": "ki6weDyIOgRc"
      },
      "outputs": [],
      "source": [
        "# s&p data\n",
        "sp = pd.read_csv('stock prices.csv')\n",
        "sp = sp.dropna()\n",
        "\n",
        "# apple data\n",
        "apple = pd.read_csv('apple five year data.csv')\n",
        "apple = apple.dropna()\n",
        "\n",
        "# starbucks data\n",
        "starbucks = pd.read_csv('starbucks five year data.csv')\n",
        "starbucks = starbucks.dropna()\n",
        "\n",
        "# amazon data\n",
        "amazon = pd.read_csv('amazon five year data.csv')\n",
        "amazon = amazon.dropna()\n",
        "\n",
        "# microsoft data\n",
        "microsoft = pd.read_csv('microsoft five year data.csv')\n",
        "microsoft = microsoft.dropna()\n",
        "\n",
        "# web scraping s&p changes over years\n",
        "url = 'https://www.multpl.com/s-p-500-historical-prices/table/by-month'\n",
        "headers = {\n",
        "    'User-Agent': 'Mozilla/5.0 (Macintosh; Intel Mac OS X 10_15_7) AppleWebKit/537.36 (KHTML, like Gecko) Chrome/112.0.0.0 Safari/537.36',\n",
        "    'From': 'stopdenyingme@gmail.com'\n",
        "}\n",
        "r = requests.get(url, headers=headers)\n",
        "\n",
        "page = BeautifulSoup(r.content, 'lxml')\n",
        "sp_data = pd.read_html(str(page.find('table')))[0]\n",
        "sp_data.columns = ['Date', 'Price']\n",
        "sp_data.index = sp_data.index + 1"
      ]
    },
    {
      "attachments": {},
      "cell_type": "markdown",
      "metadata": {
        "id": "fUMW4nMCWY9u"
      },
      "source": [
        "Data Collection For Machine Learning: [Explain Code Here]"
      ]
    },
    {
      "attachments": {},
      "cell_type": "markdown",
      "metadata": {
        "id": "2JBvLrn7WlRn"
      },
      "source": [
        "Apple Data:"
      ]
    },
    {
      "cell_type": "code",
      "execution_count": null,
      "metadata": {
        "id": "DBjpUNN4WdvL"
      },
      "outputs": [],
      "source": [
        "# Get the Dataset\n",
        "dataset = pd.read_csv('HistoricalData_1683500505754.csv')"
      ]
    },
    {
      "attachments": {},
      "cell_type": "markdown",
      "metadata": {
        "id": "kb5uGAMXWcSO"
      },
      "source": [
        "Amazon Data:"
      ]
    },
    {
      "cell_type": "code",
      "execution_count": null,
      "metadata": {
        "id": "VBw49gFZWi-0"
      },
      "outputs": [],
      "source": [
        "# Get the Dataset\n",
        "dataset2 = pd.read_csv('HistoricalData_1683662795655.csv')"
      ]
    },
    {
      "attachments": {},
      "cell_type": "markdown",
      "metadata": {
        "id": "irkiEn6gWpja"
      },
      "source": [
        "# Data Preprocessing:"
      ]
    },
    {
      "attachments": {},
      "cell_type": "markdown",
      "metadata": {
        "id": "YPOiiFUyREwi"
      },
      "source": [
        "The code here performs are more extensive analysis on the data we collected in the previous cell. We take the data from each company and construct plots/tables about specific aspects regarding each company. For the plots, we plot the average close/last price over the last 5 years to see the companies overall improvement. In the tables at the end, we show each companies close/last price currently and their market cap which provides us more insights regarding the company. "
      ]
    },
    {
      "attachments": {},
      "cell_type": "markdown",
      "metadata": {
        "id": "lRtB39rhWvL3"
      },
      "source": [
        "Data Pre Processing For Explanatory Data Analysis and Data Visualization:"
      ]
    },
    {
      "cell_type": "code",
      "execution_count": null,
      "metadata": {
        "id": "tkfvxeKAZiPq"
      },
      "outputs": [],
      "source": [
        "# all the pre processing done for Apple data set\n",
        "apple_dates = list(apple['Date'])\n",
        "apple_years = []\n",
        "\n",
        "# adding all the years stripping out the MM/DD/ part of the date\n",
        "for date in apple_dates:\n",
        "  apple_years.append(date[6::])\n",
        "\n",
        "# adding the new column to data set\n",
        "apple['Year'] = apple_years\n",
        "apple = apple[['Year', 'Date', 'Close/Last', 'Volume', 'Open', 'High', 'Low']]\n",
        "\n",
        "# getting all the average close/last prices and storing in an array\n",
        "apple_avgs = []\n",
        "for year in sorted(set(apple_years)):\n",
        "  total = 0\n",
        "  # temp data set which corresponds to each year in the 5 year average\n",
        "  temp = apple.loc[apple['Year'] == str(year)]\n",
        "  close_last = list(temp['Close/Last'])\n",
        "  for val in close_last:\n",
        "    total += float(val[1::])\n",
        "\n",
        "  apple_avgs.append(total / len(close_last))"
      ]
    },
    {
      "cell_type": "code",
      "execution_count": null,
      "metadata": {
        "id": "xhzghkHGaxzA"
      },
      "outputs": [],
      "source": [
        "# all the pre processing done for Starbucks data set\n",
        "starbucks_dates = list(starbucks['Date'])\n",
        "starbucks_years = []\n",
        "\n",
        "# adding all the years stripping out the MM/DD/ part of the date\n",
        "for date in starbucks_dates:\n",
        "  starbucks_years.append(date[6::])\n",
        "\n",
        "# adding the new column to data set\n",
        "starbucks['Year'] = starbucks_years\n",
        "starbucks = starbucks[['Year', 'Date', 'Close/Last', 'Volume', 'Open', 'High', 'Low']]\n",
        "\n",
        "# getting all the average close/last prices and storing in an array\n",
        "starbucks_avgs = []\n",
        "for year in sorted(set(starbucks_years)):\n",
        "  total = 0\n",
        "  # temp data set which corresponds to each year in the 5 year average\n",
        "  temp = starbucks.loc[starbucks['Year'] == str(year)]\n",
        "  close_last = list(temp['Close/Last'])\n",
        "  for val in close_last:\n",
        "    total += float(val[1::])\n",
        "\n",
        "  starbucks_avgs.append(total / len(close_last))"
      ]
    },
    {
      "cell_type": "code",
      "execution_count": null,
      "metadata": {
        "id": "Fz8gCn1FbOv1"
      },
      "outputs": [],
      "source": [
        "# all the pre processing done for Amazon data set\n",
        "amazon_dates = list(amazon['Date'])\n",
        "amazon_years = []\n",
        "\n",
        "# adding all the years stripping out the MM/DD/ part of the date\n",
        "for date in amazon_dates:\n",
        "  amazon_years.append(date[6::])\n",
        "\n",
        "# adding the new column to data set\n",
        "amazon['Year'] = amazon_years\n",
        "amazon = amazon[['Year', 'Date', 'Close/Last', 'Volume', 'Open', 'High', 'Low']]\n",
        "\n",
        "# getting all the average close/last prices and storing in an array\n",
        "amazon_avgs = []\n",
        "for year in sorted(set(amazon_years)):\n",
        "  total = 0\n",
        "  # temp data set which corresponds to each year in the 5 year average\n",
        "  temp = amazon.loc[amazon['Year'] == str(year)]\n",
        "  close_last = list(temp['Close/Last'])\n",
        "  for val in close_last:\n",
        "    total += float(val[1::])\n",
        "\n",
        "  amazon_avgs.append(total / len(close_last))"
      ]
    },
    {
      "cell_type": "code",
      "execution_count": null,
      "metadata": {
        "id": "zrA8whpWcFia"
      },
      "outputs": [],
      "source": [
        "# all the pre processing done for Microsoft data set\n",
        "microsoft_dates = list(microsoft['Date'])\n",
        "microsoft_years = []\n",
        "\n",
        "# adding all the years stripping out the MM/DD/ part of the date\n",
        "for date in microsoft_dates:\n",
        "  microsoft_years.append(date[6::])\n",
        "\n",
        "# adding the new column to data set\n",
        "microsoft['Year'] = microsoft_years\n",
        "microsoft = microsoft[['Year', 'Date', 'Close/Last', 'Volume', 'Open', 'High', 'Low']]\n",
        "\n",
        "# getting all the average close/last prices and storing in an array\n",
        "microsoft_avgs = []\n",
        "for year in sorted(set(microsoft_years)):\n",
        "  total = 0\n",
        "  # temp data set which corresponds to each year in the 5 year average\n",
        "  temp = microsoft.loc[microsoft['Year'] == str(year)]\n",
        "  close_last = list(temp['Close/Last'])\n",
        "  for val in close_last:\n",
        "    total += float(val[1::])\n",
        "\n",
        "  microsoft_avgs.append(total / len(close_last))"
      ]
    },
    {
      "attachments": {},
      "cell_type": "markdown",
      "metadata": {},
      "source": [
        "This code here cleans the S&P 500 price data frame to obtain the years 2018-2023 to remain consistent with the companies years chosen. This is done to get a 5 year average plot of the S&P 500 so we can see how the overall market has been doing compared to each individual company"
      ]
    },
    {
      "cell_type": "code",
      "execution_count": null,
      "metadata": {},
      "outputs": [],
      "source": [
        "pd.options.mode.chained_assignment = None\n",
        "\n",
        "# Cleaning/Filtering through the S&P Data to get the relevant information we need\n",
        "sp_dates = list(sp_data['Date'])\n",
        "sp_years = []\n",
        "for date in sp_dates:\n",
        "  # stripping the MM/DD part of the date to get just the years\n",
        "  sp_years.append(date[-4:])\n",
        "\n",
        "# adding the column to the dataframe to be used in later computation\n",
        "sp_data['Year'] = sp_years\n",
        "# converting all years to ints\n",
        "sp_data['Year'] = sp_data['Year'].astype(int)\n",
        "# dropping all columns that are before 2018\n",
        "sp_data = sp_data[sp_data['Year'] >= 2018]\n",
        "\n",
        "# getting the five year average price increase for the S&P 500\n",
        "sp_fives = list(sp_data['Year'])\n",
        "sp_avgs = []\n",
        "for year in sorted(set(sp_fives)):\n",
        "  total = 0\n",
        "  temp = sp_data.loc[sp_data['Year'] == year]\n",
        "  prices = list(temp['Price'])\n",
        "  for price in prices:\n",
        "    total += float(price)\n",
        "\n",
        "  # list of averages\n",
        "  sp_avgs.append(total / len(prices))"
      ]
    },
    {
      "attachments": {},
      "cell_type": "markdown",
      "metadata": {
        "id": "56BVl7YfW9bv"
      },
      "source": [
        "Data Pre Processing For ML and Hyothesis Testing:"
      ]
    },
    {
      "cell_type": "code",
      "execution_count": null,
      "metadata": {
        "id": "GpklnaRfW_n6"
      },
      "outputs": [],
      "source": [
        "def process_values(money_val):\n",
        "  # remove the $ sign (pre processing)\n",
        "  corrected_val = str(money_val)[1:]\n",
        "  return float(corrected_val)"
      ]
    },
    {
      "cell_type": "code",
      "execution_count": null,
      "metadata": {
        "id": "pRdc0DEjXAcM"
      },
      "outputs": [],
      "source": [
        "# Data Pre-Prcessing:\n",
        "dataset.rename(columns = {'Close/Last':'Close'}, inplace = True)\n",
        "cols = dataset.columns.tolist()\n",
        "cols = ['Date', 'Open', 'High', 'Low', 'Close', 'Volume']\n",
        "dataset = dataset[cols]\n",
        "\n",
        "dataset['Open'] = dataset['Open'].apply(process_values)\n",
        "dataset['High'] = dataset['High'].apply(process_values)\n",
        "dataset['Low'] = dataset['Low'].apply(process_values)\n",
        "dataset['Close'] = dataset['Close'].apply(process_values)"
      ]
    },
    {
      "attachments": {},
      "cell_type": "markdown",
      "metadata": {
        "id": "EdmqPXbRXRfU"
      },
      "source": [
        "Apple Data Preprocessing:"
      ]
    },
    {
      "cell_type": "code",
      "execution_count": null,
      "metadata": {
        "colab": {
          "base_uri": "https://localhost:8080/"
        },
        "id": "8eA_fjSAXRBG",
        "outputId": "b26f85cc-0349-4cec-b6bf-b2bee09c10a4"
      },
      "outputs": [],
      "source": [
        "# Split the data into a pre 2019 set and a post\n",
        "dataset_train = dataset[1100:]\n",
        "dataset_test = dataset[0:1100]\n",
        "\n",
        "dataset_train = dataset_train.iloc[::-1]\n",
        "dataset_test = dataset_test.iloc[::-1]\n",
        "\n",
        "# Train Data\n",
        "print(dataset_train.head())\n",
        "# Test Data\n",
        "print(dataset_test.head())"
      ]
    },
    {
      "attachments": {},
      "cell_type": "markdown",
      "metadata": {
        "id": "dqpgb0d3XX3a"
      },
      "source": [
        "Amazon Data Pre Processing:"
      ]
    },
    {
      "cell_type": "code",
      "execution_count": null,
      "metadata": {
        "colab": {
          "base_uri": "https://localhost:8080/"
        },
        "id": "PbntZHXQXavg",
        "outputId": "e77e07c2-b5ae-405a-ffbe-020b9230a651"
      },
      "outputs": [],
      "source": [
        "# Split the data into a pre 2020  set and a post\n",
        "dataset2_train = dataset2[855:]\n",
        "dataset2_test = dataset2[0:855]\n",
        "\n",
        "dataset2_train = dataset2_train.iloc[::-1]\n",
        "dataset2_test = dataset2_test.iloc[::-1]\n",
        "\n",
        "# Train Data\n",
        "print(dataset2_train.head())\n",
        "print()\n",
        "# Test Data\n",
        "print(dataset2_test.head())"
      ]
    },
    {
      "attachments": {},
      "cell_type": "markdown",
      "metadata": {
        "id": "tnkay1vFTIjq"
      },
      "source": [
        "These next parts involve some web scraping to collect current data to construct tables pertaining to specific attriubtes about the companies. Since we plotted the 5 year average closing/last price for each company, we now want to see if the current real time close/last price has changed. We are also showing their market cap as this also provides insights towards the companies growth"
      ]
    },
    {
      "attachments": {},
      "cell_type": "markdown",
      "metadata": {
        "id": "j0uG__s4Td2q"
      },
      "source": [
        "Collecting current Amazon data\n",
        "* https://finance.yahoo.com/quote/AMZN/"
      ]
    },
    {
      "cell_type": "code",
      "execution_count": null,
      "metadata": {
        "id": "sLPyiVfZTcpG"
      },
      "outputs": [],
      "source": [
        "# web scraping current Amazon data off of Yahoo Finance \n",
        "amzn_url = 'https://finance.yahoo.com/quote/AMZN/'\n",
        "\n",
        "headers = {\n",
        "    'User-Agent': 'Mozilla/5.0 (Macintosh; Intel Mac OS X 10_15_7) AppleWebKit/537.36 (KHTML, like Gecko) Chrome/112.0.0.0 Safari/537.36',\n",
        "    'From': 'stopdenyingme@gmail.com'\n",
        "}\n",
        "ret = requests.get(amzn_url, headers=headers)\n",
        "\n",
        "page = BeautifulSoup(ret.content, 'lxml')\n",
        "\n",
        "# finding the table\n",
        "amzn_data = pd.read_html(str(page.find_all('table')))[0]\n",
        "amzn_data.columns = ['Label', 'Value']\n",
        "\n",
        "# getting the second table\n",
        "amzn_data2 = pd.read_html(str(page.find_all('table')))[1]\n",
        "amzn_data2.columns = ['Label', 'Value']\n",
        "\n",
        "# getting the previous close data and market cap data for tables\n",
        "amzn_prev_close = float(amzn_data['Value'][0])\n",
        "amzn_market_cap = amzn_data2['Value'][0]"
      ]
    },
    {
      "attachments": {},
      "cell_type": "markdown",
      "metadata": {
        "id": "_feAXT1XT38v"
      },
      "source": [
        "Collecting current Apple data\n",
        "* https://finance.yahoo.com/quote/AAPL?p=AAPL&ncid=yahooproperties_peoplealso_km0o32z3jzm"
      ]
    },
    {
      "cell_type": "code",
      "execution_count": null,
      "metadata": {
        "id": "sEejNpiAT6X9"
      },
      "outputs": [],
      "source": [
        "# This processing is similar to the Amazon web scraping\n",
        "\n",
        "apple_url = 'https://finance.yahoo.com/quote/AAPL?p=AAPL&ncid=yahooproperties_peoplealso_km0o32z3jzm'\n",
        "\n",
        "headers = {\n",
        "    'User-Agent': 'Mozilla/5.0 (Macintosh; Intel Mac OS X 10_15_7) AppleWebKit/537.36 (KHTML, like Gecko) Chrome/112.0.0.0 Safari/537.36',\n",
        "    'From': 'stopdenyingme@gmail.com'\n",
        "}\n",
        "ret = requests.get(apple_url, headers=headers)\n",
        "\n",
        "page = BeautifulSoup(ret.content, 'lxml')\n",
        "\n",
        "apple_data = pd.read_html(str(page.find_all('table')))[0]\n",
        "apple_data.columns = ['Label', 'Value']\n",
        "\n",
        "apple_data2 = pd.read_html(str(page.find_all('table')))[1]\n",
        "apple_data2.columns = ['Label', 'Value']\n",
        "\n",
        "apple_prev_close = float(apple_data['Value'][0])\n",
        "apple_market_cap = apple_data2['Value'][0]"
      ]
    },
    {
      "attachments": {},
      "cell_type": "markdown",
      "metadata": {
        "id": "JGsSpDcAT8Fk"
      },
      "source": [
        "Collecting current Starbucks data\n",
        "* https://finance.yahoo.com/quote/SBUX?p=SBUX&.tsrc=fin-srch\n",
        "\n"
      ]
    },
    {
      "cell_type": "code",
      "execution_count": null,
      "metadata": {
        "id": "sra36jWNT-I1"
      },
      "outputs": [],
      "source": [
        "starbucks_url = 'https://finance.yahoo.com/quote/SBUX?p=SBUX&.tsrc=fin-srch'\n",
        "\n",
        "headers = {\n",
        "    'User-Agent': 'Mozilla/5.0 (Macintosh; Intel Mac OS X 10_15_7) AppleWebKit/537.36 (KHTML, like Gecko) Chrome/112.0.0.0 Safari/537.36',\n",
        "    'From': 'stopdenyingme@gmail.com'\n",
        "}\n",
        "ret = requests.get(starbucks_url, headers=headers)\n",
        "\n",
        "page = BeautifulSoup(ret.content, 'lxml')\n",
        "\n",
        "starbucks_data = pd.read_html(str(page.find_all('table')))[0]\n",
        "starbucks_data.columns = ['Label', 'Value']\n",
        "\n",
        "starbucks_data2 = pd.read_html(str(page.find_all('table')))[1]\n",
        "starbucks_data2.columns = ['Label', 'Value']\n",
        "\n",
        "starbucks_prev_close = float(starbucks_data['Value'][0])\n",
        "starbucks_market_cap = starbucks_data2['Value'][0]"
      ]
    },
    {
      "attachments": {},
      "cell_type": "markdown",
      "metadata": {
        "id": "fPxPa3cQT_2f"
      },
      "source": [
        "Collecting current Microsoft data\n",
        "* https://finance.yahoo.com/quote/MSFT?p=MSFT&.tsrc=fin-srch"
      ]
    },
    {
      "cell_type": "code",
      "execution_count": null,
      "metadata": {
        "id": "Bw3ibD3xUB7C"
      },
      "outputs": [],
      "source": [
        "microsoft_url = 'https://finance.yahoo.com/quote/MSFT?p=MSFT&.tsrc=fin-srch'\n",
        "\n",
        "headers = {\n",
        "    'User-Agent': 'Mozilla/5.0 (Macintosh; Intel Mac OS X 10_15_7) AppleWebKit/537.36 (KHTML, like Gecko) Chrome/112.0.0.0 Safari/537.36',\n",
        "    'From': 'stopdenyingme@gmail.com'\n",
        "}\n",
        "ret = requests.get(microsoft_url, headers=headers)\n",
        "\n",
        "page = BeautifulSoup(ret.content, 'lxml')\n",
        "\n",
        "microsoft_data = pd.read_html(str(page.find_all('table')))[0]\n",
        "microsoft_data.columns = ['Label', 'Value']\n",
        "\n",
        "microsoft_data2 = pd.read_html(str(page.find_all('table')))[1]\n",
        "microsoft_data2.columns = ['Label', 'Value']\n",
        "\n",
        "microsoft_prev_close = float(microsoft_data['Value'][0])\n",
        "microsoft_market_cap = microsoft_data2['Value'][0]"
      ]
    },
    {
      "attachments": {},
      "cell_type": "markdown",
      "metadata": {
        "id": "dM5dTQiNiTuI"
      },
      "source": [
        "This is some helper code which converts all the market caps to one unit which makes it easier to sort in the table we later construct which has sorted values"
      ]
    },
    {
      "cell_type": "code",
      "execution_count": null,
      "metadata": {
        "id": "yu3XbA29hW20"
      },
      "outputs": [],
      "source": [
        "# This will multiply the value by a scalar based on its suffix\n",
        "multipliers = {'B': 1e-3, 'T': 1}\n",
        "\n",
        "# Helper function to convert every value to one unit (trillion) for sorting\n",
        "def to_trillion(value):\n",
        "  suffix = value[-1]\n",
        "  mult = multipliers[suffix]\n",
        "  val = float(value[:-1])\n",
        "  return val * mult"
      ]
    },
    {
      "attachments": {},
      "cell_type": "markdown",
      "metadata": {
        "id": "BaS-aW3KUNuf"
      },
      "source": [
        "This code constructs the tables we are interested in"
      ]
    },
    {
      "cell_type": "code",
      "execution_count": null,
      "metadata": {
        "id": "3yR52VuWUQOq"
      },
      "outputs": [],
      "source": [
        "# lists of data for the data frame \n",
        "companies = ['Amazon', 'Apple', 'Starbucks', 'Microsoft']\n",
        "market_caps = [amzn_market_cap, apple_market_cap, starbucks_market_cap, microsoft_market_cap]\n",
        "prev_closes = [amzn_prev_close, apple_prev_close, starbucks_prev_close, microsoft_prev_close]\n",
        "\n",
        "# creating both data frames\n",
        "data = {'Company': companies, 'Market Cap': market_caps}\n",
        "data2 = {'Company': companies, 'Prev Close Price': prev_closes}\n",
        "\n",
        "# sorting values in the market cap dataframe\n",
        "market_cap_df = pd.DataFrame(data)\n",
        "market_cap_df['Market Cap'] = market_cap_df['Market Cap'].apply(to_trillion)\n",
        "market_cap_df = market_cap_df.sort_values(by='Market Cap', ignore_index=True)\n",
        "market_cap_df.columns = ['Company', 'Market Cap (Trillion)']\n",
        "\n",
        "# sorting by previous close price\n",
        "prev_close_df = pd.DataFrame(data2)\n",
        "prev_close_df = prev_close_df.sort_values(by='Prev Close Price', ignore_index=True)"
      ]
    },
    {
      "attachments": {},
      "cell_type": "markdown",
      "metadata": {
        "id": "NnMEOXUUc2ye"
      },
      "source": [
        "# Exploratory Analysis & Data Visualization"
      ]
    },
    {
      "attachments": {},
      "cell_type": "markdown",
      "metadata": {
        "id": "d6X1WSNWdotf"
      },
      "source": [
        "In the next few cells we are creating a plot for each company which plots their average close/last price in the last 5 years and this will be later compared with their current real time close/last price which will be in the form of a table"
      ]
    },
    {
      "cell_type": "code",
      "execution_count": null,
      "metadata": {},
      "outputs": [],
      "source": [
        "# Creating the plot for the S&P500\n",
        "plt.plot(list(sorted(set(sp_fives))), sp_avgs, color='Purple')\n",
        "plt.ylabel('Average Price ($)')\n",
        "plt.xlabel('Year')\n",
        "plt.title('S&P500 Five Year Growth in Price')\n",
        "plt.show()"
      ]
    },
    {
      "cell_type": "code",
      "execution_count": null,
      "metadata": {
        "colab": {
          "base_uri": "https://localhost:8080/",
          "height": 472
        },
        "id": "_DeWo2ZId0IR",
        "outputId": "1a69b65d-ceed-4cdf-e0c9-5c11344f77a2"
      },
      "outputs": [],
      "source": [
        "# Creating the plot for Apple\n",
        "plt.plot(list(sorted(set(apple_years))), apple_avgs, color='blue')\n",
        "plt.ylabel(\"Average Close/Last Price\")\n",
        "plt.xlabel(\"Year\")\n",
        "plt.title(\"Apple's Avg Close/Last Price Over the Years\")\n",
        "plt.show()"
      ]
    },
    {
      "cell_type": "code",
      "execution_count": null,
      "metadata": {
        "colab": {
          "base_uri": "https://localhost:8080/",
          "height": 472
        },
        "id": "494XXumfedOP",
        "outputId": "5426553a-da09-4da2-c740-de2007f0ba15"
      },
      "outputs": [],
      "source": [
        "# Creating the plot for Starbucks\n",
        "plt.plot(list(sorted(set(starbucks_years))), starbucks_avgs, color='red')\n",
        "plt.ylabel(\"Average Close/Last Price\")\n",
        "plt.xlabel(\"Year\")\n",
        "plt.title(\"Starbucks Avg Close/Last Price Over the Years\")\n",
        "plt.show()"
      ]
    },
    {
      "cell_type": "code",
      "execution_count": null,
      "metadata": {
        "colab": {
          "base_uri": "https://localhost:8080/",
          "height": 472
        },
        "id": "xagh7WSOfJfB",
        "outputId": "c65f0d61-8f2a-4306-ba77-c8b256728c0f"
      },
      "outputs": [],
      "source": [
        "# Creating the plot for Amazon\n",
        "plt.plot(list(sorted(set(amazon_years))), amazon_avgs, color='green')\n",
        "plt.ylabel(\"Average Close/Last Price\")\n",
        "plt.xlabel(\"Year\")\n",
        "plt.title(\"Amazon's Avg Close/Last Price Over the Years\")\n",
        "plt.show()"
      ]
    },
    {
      "cell_type": "code",
      "execution_count": null,
      "metadata": {
        "colab": {
          "base_uri": "https://localhost:8080/",
          "height": 472
        },
        "id": "-U-EVfhPfUQG",
        "outputId": "0c3f48c9-b9be-4888-9d5d-00a0f89be739"
      },
      "outputs": [],
      "source": [
        "# Creating the plot for Microsoft\n",
        "plt.plot(list(sorted(set(microsoft_years))), microsoft_avgs, color='orange')\n",
        "plt.ylabel(\"Average Close/Last Price\")\n",
        "plt.xlabel(\"Year\")\n",
        "plt.title(\"Microsoft's Avg Close/Last Price Over the Years\")\n",
        "plt.show()"
      ]
    },
    {
      "cell_type": "code",
      "execution_count": null,
      "metadata": {
        "colab": {
          "base_uri": "https://localhost:8080/",
          "height": 657
        },
        "id": "CBXy0iBO9E-A",
        "outputId": "88656683-b4cf-4f95-d64e-7a1d7a96773a"
      },
      "outputs": [],
      "source": [
        "# Add 'Company' column to individual company datasets\n",
        "apple['Company'] = 'Apple'\n",
        "starbucks['Company'] = 'Starbucks'\n",
        "amazon['Company'] = 'Amazon'\n",
        "microsoft['Company'] = 'Microsoft'\n",
        "\n",
        "# Combine the data for all companies\n",
        "data = pd.concat([apple, starbucks, amazon, microsoft])\n",
        "\n",
        "# Convert 'Year' and 'Close/Last' columns to numeric\n",
        "data['Year'] = pd.to_numeric(data['Year'])\n",
        "data['Close/Last'] = data['Close/Last'].str.replace('$', '').astype(float)\n",
        "\n",
        "# Set up the plot\n",
        "sns.set(style='whitegrid')\n",
        "plt.figure(figsize=(10, 6))\n",
        "\n",
        "# Create the violin plot\n",
        "sns.violinplot(data=data, x='Year', y='Close/Last', hue='Company', inner='quartile')\n",
        "plt.xlabel('Year')\n",
        "plt.ylabel('Close/Last Price')\n",
        "plt.title('Close/Last Price Distribution Over the Years (All Companies)')\n",
        "plt.legend(title='Company')\n",
        "\n",
        "# Adjust the plot layout\n",
        "plt.tight_layout()\n",
        "\n",
        "# Show the plot\n",
        "plt.show()"
      ]
    },
    {
      "attachments": {},
      "cell_type": "markdown",
      "metadata": {
        "id": "421lkaLqBKYU"
      },
      "source": [
        "This violin plot, "
      ]
    },
    {
      "cell_type": "code",
      "execution_count": null,
      "metadata": {
        "colab": {
          "base_uri": "https://localhost:8080/",
          "height": 519
        },
        "id": "4-pNu5HvHkVZ",
        "outputId": "1e80a003-4f22-405f-d9c2-9f5740c0c2be"
      },
      "outputs": [],
      "source": [
        "plt.figure(figsize=(12, 6))\n",
        "\n",
        "# Select every 10th date for plotting\n",
        "x_ticks = apple['Date'][::100]\n",
        "\n",
        "# Plotting Volume by Day for Apple\n",
        "plt.plot(apple['Date'], apple['Volume'], label='Apple')\n",
        "\n",
        "# Plotting Volume by Day for Starbucks\n",
        "plt.plot(starbucks['Date'], starbucks['Volume'], label='Starbucks')\n",
        "\n",
        "# Plotting Volume by Day for Amazon\n",
        "plt.plot(amazon['Date'], amazon['Volume'], label='Amazon')\n",
        "\n",
        "# Plotting Volume by Day for Microsoft\n",
        "plt.plot(microsoft['Date'], microsoft['Volume'], label='Microsoft')\n",
        "\n",
        "# plot labels and legends for visuals\n",
        "plt.xlabel('Date')\n",
        "plt.ylabel('Volume')\n",
        "plt.title('Volume by Day - All Companies')\n",
        "# Set custom x-axis ticks\n",
        "plt.xticks(x_ticks, rotation=45, ha='right')  \n",
        "plt.legend()\n",
        "# Adjust spacing\n",
        "plt.tight_layout()\n",
        "plt.show()"
      ]
    },
    {
      "attachments": {},
      "cell_type": "markdown",
      "metadata": {
        "id": "K5eACO1dm31U"
      },
      "source": [
        "The tables we previously constructed are being displayed here after cleaning and sorting values"
      ]
    },
    {
      "cell_type": "code",
      "execution_count": null,
      "metadata": {
        "colab": {
          "base_uri": "https://localhost:8080/",
          "height": 175
        },
        "id": "uUov4pfLm3pS",
        "outputId": "d0c94235-0b4d-4dd2-ebd5-0bfbe5e24812"
      },
      "outputs": [],
      "source": [
        "market_cap_df"
      ]
    },
    {
      "cell_type": "code",
      "execution_count": null,
      "metadata": {
        "colab": {
          "base_uri": "https://localhost:8080/",
          "height": 175
        },
        "id": "uEQewYgBoLdF",
        "outputId": "dcf0c168-d34a-414b-d10b-57baa69f9f5b"
      },
      "outputs": [],
      "source": [
        "prev_close_df"
      ]
    },
    {
      "cell_type": "code",
      "execution_count": null,
      "metadata": {
        "id": "vJiXCt6-mABQ"
      },
      "outputs": [],
      "source": [
        "def plotYear(df, year, ax):\n",
        "  y = df[df['Date'].str[6:] == year]['Open'].iloc[::-1].values\n",
        "  x = np.arange(len(y))\n",
        "  m, b = np.polyfit(x, y, 1)\n",
        "  ax.plot(x, y)\n",
        "  ax.plot(x, m*x+b)\n",
        "  ax.set_title(year)\n",
        "  ax.set_ylabel(\"Price\")"
      ]
    },
    {
      "attachments": {},
      "cell_type": "markdown",
      "metadata": {
        "id": "SEB1Q3uooFot"
      },
      "source": [
        "Apple's value saw a decline in 2015 compared to previous years, due to suspicions among shareholders of iPhone market saturation.\n",
        "https://time.com/4484791/apple-stock-aapl-iphone-7/"
      ]
    },
    {
      "cell_type": "code",
      "execution_count": null,
      "metadata": {
        "colab": {
          "base_uri": "https://localhost:8080/",
          "height": 318
        },
        "id": "JM4MDyncmufF",
        "outputId": "abc9ad0b-5b9b-4a35-e088-44ea49d97f0c"
      },
      "outputs": [],
      "source": [
        "f = plt.figure(figsize=(10,3))\n",
        "ax = f.add_subplot(121)\n",
        "ax2 = f.add_subplot(122)\n",
        "plotYear(dataset, '2014', ax)\n",
        "plotYear(dataset, '2015', ax2)"
      ]
    },
    {
      "attachments": {},
      "cell_type": "markdown",
      "metadata": {
        "id": "fmkaF9MRvIcw"
      },
      "source": [
        "Amazon saw high levels of growth during 2020 due to the pandemic, which increased the value of online retail."
      ]
    },
    {
      "cell_type": "code",
      "execution_count": null,
      "metadata": {
        "colab": {
          "base_uri": "https://localhost:8080/",
          "height": 318
        },
        "id": "WYrsCaflreNP",
        "outputId": "602a08bf-a19b-4b01-9994-8f3d73fe0426"
      },
      "outputs": [],
      "source": [
        "f = plt.figure(figsize=(10,3))\n",
        "ax = f.add_subplot(121)\n",
        "ax2 = f.add_subplot(122)\n",
        "plotYear(dataset, '2018', ax)\n",
        "plotYear(dataset, '2020', ax2)"
      ]
    },
    {
      "attachments": {},
      "cell_type": "markdown",
      "metadata": {
        "id": "XaDpICcKXd5W"
      },
      "source": [
        "# Machine Learning and Hypothesis Testing:"
      ]
    },
    {
      "cell_type": "code",
      "execution_count": null,
      "metadata": {
        "id": "tMAmbGxAXua0"
      },
      "outputs": [],
      "source": [
        "import seaborn as sns\n",
        "import scipy\n",
        "from scipy import stats\n",
        "import statsmodels.api"
      ]
    },
    {
      "attachments": {},
      "cell_type": "markdown",
      "metadata": {
        "id": "qhv1Y4fbXuCF"
      },
      "source": [
        "# Hypothesis Testing:"
      ]
    },
    {
      "attachments": {},
      "cell_type": "markdown",
      "metadata": {
        "id": "h53rycBcX7cc"
      },
      "source": [
        "Suppose we wish to conduct a hypothesis test in order to test the correlation between 2 different variables: trading volume and closing price. In other words, we wish to see if the price of a stock has an affect on it's volume traded. Our Null Hypothesis (H0) is the idea that stock price has no bearing on it's overall trading volume. The null hypothesis is the hypothesis that there is no signifigant correlation between 2 variables. Our Alternate Hypothesis is the idea that there is a correlation between stock price and trading value. The alternate hypothesis is a statement that contradicts the null hypothesis and suggests a significant difference or relationship between variables being studied. For our case, we will be conducting hypothesis tests to see if there is a relationship between stock price and trading volume for the companies Apple and Amazon. \n"
      ]
    },
    {
      "attachments": {},
      "cell_type": "markdown",
      "metadata": {
        "id": "P-N-V2eIX-6A"
      },
      "source": [
        "Here we will be plotting the close price of Amazon's stock (x axis) against the trading volume of the Amazon stock (y-axis). We will be fitting a regression line to this plot in order to better analyze the underlying trend of the data and visualize the overall correlation between the 2 variables. "
      ]
    },
    {
      "cell_type": "code",
      "execution_count": null,
      "metadata": {
        "id": "6dqhJP8ilHXz"
      },
      "outputs": [],
      "source": [
        "dataset = pd.read_csv('HistoricalData_1683500505754.csv')\n",
        "dataset2 = pd.read_csv('HistoricalData_1683662795655.csv')\n",
        "dataset3 = pd.read_csv('HistoricalData_1683660938225.csv')\n",
        "\n",
        "# Data Pre-Prcessing:\n",
        "dataset.rename(columns = {'Close/Last':'Close'}, inplace = True)\n",
        "cols = dataset.columns.tolist()\n",
        "cols = ['Date', 'Open', 'High', 'Low', 'Close', 'Volume']\n",
        "dataset = dataset[cols]\n",
        "\n",
        "dataset['Open'] = dataset['Open'].apply(process_values)\n",
        "dataset['High'] = dataset['High'].apply(process_values)\n",
        "dataset['Low'] = dataset['Low'].apply(process_values)\n",
        "dataset['Close'] = dataset['Close'].apply(process_values)\n",
        "\n",
        "# Data Pre-Prcessing:\n",
        "dataset2.rename(columns = {'Close/Last':'Close'}, inplace = True)\n",
        "cols = dataset2.columns.tolist()\n",
        "cols = ['Date', 'Open', 'High', 'Low', 'Close', 'Volume']\n",
        "dataset2 = dataset2[cols]\n",
        "\n",
        "dataset2['Open'] = dataset2['Open'].apply(process_values)\n",
        "dataset2['High'] = dataset2['High'].apply(process_values)\n",
        "dataset2['Low'] = dataset2['Low'].apply(process_values)\n",
        "dataset2['Close'] = dataset2['Close'].apply(process_values)\n",
        "\n",
        "# Data Pre-Prcessing:\n",
        "dataset3.rename(columns = {'Close/Last':'Close'}, inplace = True)\n",
        "cols = dataset3.columns.tolist()\n",
        "cols = ['Date', 'Open', 'High', 'Low', 'Close', 'Volume']\n",
        "dataset3 = dataset3[cols]\n",
        "\n",
        "dataset3['Open'] = dataset3['Open'].apply(process_values)\n",
        "dataset3['High'] = dataset3['High'].apply(process_values)\n",
        "dataset3['Low'] = dataset3['Low'].apply(process_values)\n",
        "dataset3['Close'] = dataset3['Close'].apply(process_values)"
      ]
    },
    {
      "cell_type": "code",
      "execution_count": null,
      "metadata": {
        "id": "wRklgyEnlEOz"
      },
      "outputs": [],
      "source": [
        "print(dataset2.head())\n",
        "print('')\n",
        "print(dataset3.head())"
      ]
    },
    {
      "cell_type": "code",
      "execution_count": null,
      "metadata": {
        "colab": {
          "base_uri": "https://localhost:8080/",
          "height": 480
        },
        "id": "5krEwTXjYAoK",
        "outputId": "4236e902-de03-4ec9-e0d0-cd45e26089d4"
      },
      "outputs": [],
      "source": [
        "# AMAZON PLOT\n",
        "plot = sns.regplot(x=dataset2[\"Close\"], y=dataset2[\"Volume\"],\n",
        "            scatter_kws = {\"color\": \"black\", \"alpha\": 0.5},\n",
        "            line_kws = {\"color\": \"red\"},\n",
        "            ci = 99)\n",
        "plt.title('Close Price vs Volume For Amazon')\n",
        "slope, intercept, r, plot, sterr = scipy.stats.linregress(x=plot.get_lines()[0].get_xdata(), \n",
        "                                            y=plot.get_lines()[0].get_ydata())\n",
        "\n",
        "plt.text(100, 95, 'y = ' + str(round(intercept,3)) + ' + ' + str(round(slope,3)) + 'x')\n",
        "\n",
        "plt.xlabel('Close Price ($)')\n",
        "plt.ylabel('Volume Traded (hundreds of millions)')\n",
        "plt.show()"
      ]
    },
    {
      "attachments": {},
      "cell_type": "markdown",
      "metadata": {
        "id": "y5RHHLIzYDQJ"
      },
      "source": [
        "Below we will be conducting an OLS regression. OLS regressions typically provide information on the relationship between a dependent variable and independent variables, including coefficients, standard errors, t-values, p-values, R-squared values, residuals, and diagnostic statistics. Here in this example we will be conducting an OLS Regression in order to see if there is a a p value < 0.05, which reason that the correlation between close price of a stock and volume traded is statistically signifigant. Below we see in the chart that the p-value is 0. Since 0 is < 0.05, we can reject the Null Hypothesis and accept the alternate hypothesis which we previously mentioned states tha there is a statistically signifigant correlation between close price and trading volume."
      ]
    },
    {
      "cell_type": "code",
      "execution_count": null,
      "metadata": {
        "colab": {
          "base_uri": "https://localhost:8080/"
        },
        "id": "pFzhXerYYFlq",
        "outputId": "051294b5-fa9e-49d5-efd0-1b2376f3babb"
      },
      "outputs": [],
      "source": [
        "ret = statsmodels.formula.api.ols(formula=\"Close ~ Volume\", data=dataset2).fit()\n",
        "print(ret.summary())"
      ]
    },
    {
      "attachments": {},
      "cell_type": "markdown",
      "metadata": {
        "id": "9i55dAOyYI78"
      },
      "source": [
        "Here we will be plotting the close price of Apple's stock (x axis) against the trading volume of the Amazon stock (y-axis). We will be fitting a regression line to this plot in order to better analyze the underlying trend of the data and visualize the overall correlation between the 2 variables.  "
      ]
    },
    {
      "attachments": {},
      "cell_type": "markdown",
      "metadata": {
        "id": "IgJ2x2CoYMpu"
      },
      "source": [
        "Here we will be plotting the close price of Amazon's stock (x axis) against the trading volume of the Amazon stock (y-axis). We will be fitting a regression line to this plot in order to better analyze the underlying trend of the data and visualize the overall correlation between the 2 variables."
      ]
    },
    {
      "cell_type": "code",
      "execution_count": null,
      "metadata": {
        "colab": {
          "base_uri": "https://localhost:8080/",
          "height": 480
        },
        "id": "H1JkBNdiYIPs",
        "outputId": "82a4f9dc-d2d8-4111-d852-e0c6c916c219"
      },
      "outputs": [],
      "source": [
        "# APPLE PLOT\n",
        "plot= sns.regplot(x=dataset3[\"Close\"], y=dataset3[\"Volume\"],\n",
        "            scatter_kws = {\"color\": \"black\", \"alpha\": 0.5},\n",
        "            line_kws = {\"color\": \"red\"},\n",
        "            ci = 99)\n",
        "plt.title('Close Price vs Volume For Apple')\n",
        "slope, intercept, r, plot, sterr = scipy.stats.linregress(x=plot.get_lines()[0].get_xdata(),\n",
        "                                                       y=plot.get_lines()[0].get_ydata())\n",
        "\n",
        "plt.text(90, 30000, 'y = ' + str(round(intercept,3)) + ' + ' + str(round(slope,3)) + 'x')\n",
        "\n",
        "plt.show()"
      ]
    },
    {
      "attachments": {},
      "cell_type": "markdown",
      "metadata": {
        "id": "XvHms57XYQ_T"
      },
      "source": [
        "Below we will be conducting an OLS regression. OLS regressions typically provide information on the relationship between a dependent variable and independent variables, including coefficients, standard errors, t-values, p-values, R-squared values, residuals, and diagnostic statistics. Here in this example we will be conducting an OLS Regression in order to see if there is a a p value < 0.05, which reason that the correlation between close price of a stock and volume traded is statistically signifigant. Below we see in the chart that the p-value is 0. Since 0 is < 0.05, we can reject the Null Hypothesis and accept the alternate hypothesis which we previously mentioned states tha there is a statistically signifigant correlation between close price and trading volume."
      ]
    },
    {
      "cell_type": "code",
      "execution_count": null,
      "metadata": {
        "colab": {
          "base_uri": "https://localhost:8080/"
        },
        "id": "X_7wE0mhYThX",
        "outputId": "70fa84f6-fbab-48ab-e95d-c651d37de3f0"
      },
      "outputs": [],
      "source": [
        "ret = statsmodels.formula.api.ols(formula=\"Close ~ Volume\", data=dataset2).fit()\n",
        "print(ret.summary())"
      ]
    },
    {
      "attachments": {},
      "cell_type": "markdown",
      "metadata": {
        "id": "3RKOQSKXYWvz"
      },
      "source": [
        "# Machine Learning:"
      ]
    },
    {
      "cell_type": "code",
      "execution_count": null,
      "metadata": {
        "colab": {
          "base_uri": "https://localhost:8080/"
        },
        "id": "FvC99mFaXdlh",
        "outputId": "9ba16c1e-ec83-44e4-9672-64e8ca14707b"
      },
      "outputs": [],
      "source": [
        "training_set = dataset_train.iloc[:,1:2].values\n",
        "print(training_set)\n",
        "print(training_set.shape)"
      ]
    },
    {
      "attachments": {},
      "cell_type": "markdown",
      "metadata": {
        "id": "BuHiUo4q_j6v"
      },
      "source": [
        "Fitting ARIMA model as baseline"
      ]
    },
    {
      "cell_type": "code",
      "execution_count": null,
      "metadata": {
        "colab": {
          "base_uri": "https://localhost:8080/"
        },
        "id": "1MRl5qP394aZ",
        "outputId": "9c8d6692-fed2-46d1-e58a-0dc7ca280f0e"
      },
      "outputs": [],
      "source": [
        "from pmdarima.arima import ARIMA"
      ]
    },
    {
      "cell_type": "code",
      "execution_count": null,
      "metadata": {
        "colab": {
          "base_uri": "https://localhost:8080/",
          "height": 686
        },
        "id": "Q6IgeUpr9_aI",
        "outputId": "b9c0bb98-6b26-43f8-cd2c-894f422924d0"
      },
      "outputs": [],
      "source": [
        "model = ARIMA(order=[4, 1, 3])\n",
        "model.fit(training_set)\n",
        "model.summary()"
      ]
    },
    {
      "cell_type": "code",
      "execution_count": null,
      "metadata": {
        "colab": {
          "base_uri": "https://localhost:8080/",
          "height": 498
        },
        "id": "ftGFTfUZ9A2E",
        "outputId": "decff0d9-87a7-4c40-dc5b-f9143876e7dc"
      },
      "outputs": [],
      "source": [
        "plt.plot(dataset.iloc[::-1].iloc[:,1:2].values, color = 'red', label = 'Actual Apple Stock Price') \n",
        "plt.plot(np.append(training_set, model.predict(n_periods = 1100)), color = 'blue', label = 'Predicted Apple Stock Price') \n",
        "plt.title('Apple Stock Price Prediction In Dollars ($)')\n",
        "plt.xlabel('Time (In Days)')\n",
        "plt.ylabel('Apple Stock Price')\n",
        "plt.legend() "
      ]
    },
    {
      "attachments": {},
      "cell_type": "markdown",
      "metadata": {
        "id": "w6aVvGZ9XkxM"
      },
      "source": [
        "Referenced Code and Information for the LSTM Model was take from the following sites:\n",
        "\n",
        "https://www.analyticsvidhya.com/blog/2022/01/the-complete-lstm-tutorial-with-implementation/\n",
        "\n",
        "https://towardsdatascience.com/simple-stock-price-prediction-with-ml-in-python-learners-guide-to-ml-76896910e2ba \n",
        "\n",
        "https://www.simplilearn.com/tutorials/machine-learning-tutorial/stock-price-prediction-using-machine-learning"
      ]
    },
    {
      "cell_type": "code",
      "execution_count": null,
      "metadata": {
        "colab": {
          "base_uri": "https://localhost:8080/"
        },
        "id": "8QOEm7i6XiFj",
        "outputId": "ccb3b4c5-4a67-40ad-8b28-49f75f84cfba"
      },
      "outputs": [],
      "source": [
        "from sklearn.preprocessing import MinMaxScaler\n",
        "\n",
        "scaler = MinMaxScaler(feature_range = (0,1))\n",
        "scaled_training_set = scaler.fit_transform(training_set)\n",
        "scaled_training_set"
      ]
    },
    {
      "cell_type": "code",
      "execution_count": null,
      "metadata": {
        "id": "Caxbc_-jXnhc"
      },
      "outputs": [],
      "source": [
        "x_train = []\n",
        "y_train = []\n",
        "\n",
        "for i in range (60,len(dataset_train)):\n",
        "  x_train.append(scaled_training_set[i-60:i,0])\n",
        "  y_train.append(scaled_training_set[i,0])\n",
        "x_train= np.array(x_train)\n",
        "y_train= np.array(y_train)"
      ]
    },
    {
      "cell_type": "code",
      "execution_count": null,
      "metadata": {
        "colab": {
          "base_uri": "https://localhost:8080/"
        },
        "id": "JcHjIGaqXo38",
        "outputId": "841d919e-f032-427a-eb62-600d94462aae"
      },
      "outputs": [],
      "source": [
        "print(x_train.shape)\n",
        "print(y_train.shape)"
      ]
    },
    {
      "cell_type": "code",
      "execution_count": null,
      "metadata": {
        "colab": {
          "base_uri": "https://localhost:8080/"
        },
        "id": "K2dQZt7bXp9M",
        "outputId": "c09f01b8-94d4-4e4d-965d-9277fc96ef33"
      },
      "outputs": [],
      "source": [
        "x_train = np.reshape(x_train, (x_train.shape[0], x_train.shape[1], 1))\n",
        "x_train.shape"
      ]
    },
    {
      "cell_type": "code",
      "execution_count": null,
      "metadata": {
        "id": "0a2l7vkgXrKj"
      },
      "outputs": [],
      "source": [
        "from keras.models import Sequential\n",
        "from keras.layers import LSTM\n",
        "from keras.layers import Dense\n",
        "from keras.layers import Dropout"
      ]
    },
    {
      "cell_type": "code",
      "execution_count": null,
      "metadata": {
        "id": "zsPlrQSgXshx"
      },
      "outputs": [],
      "source": [
        "regressor = Sequential()\n",
        "regressor.add(LSTM(units = 50, return_sequences= True, input_shape = (x_train.shape[1], 1)))\n",
        "regressor.add(Dropout (0.2))\n",
        "\n",
        "regressor.add(LSTM(units = 50, return_sequences= True))\n",
        "regressor.add(Dropout (0.2))\n",
        "\n",
        "regressor.add(LSTM(units = 50, return_sequences=True))\n",
        "regressor.add(Dropout (0.2))\n",
        "\n",
        "regressor.add(LSTM(units = 50, return_sequences=True))\n",
        "regressor.add(Dropout (0.2))\n",
        "\n",
        "regressor.add(LSTM(units = 50))\n",
        "regressor.add (Dropout (0.2))\n",
        "\n",
        "regressor.add(Dense (units=1))"
      ]
    },
    {
      "cell_type": "code",
      "execution_count": null,
      "metadata": {
        "colab": {
          "base_uri": "https://localhost:8080/"
        },
        "id": "2Lr6mNz4XuE-",
        "outputId": "1ad08096-3219-4f2d-92f7-d1b6a86bc9e0"
      },
      "outputs": [],
      "source": [
        "regressor.compile(optimizer='adam', loss='mean_squared_error')\n",
        "regressor.fit(x_train, y_train, epochs=100, batch_size=32)            "
      ]
    },
    {
      "cell_type": "code",
      "execution_count": null,
      "metadata": {
        "colab": {
          "base_uri": "https://localhost:8080/"
        },
        "id": "UEvrnP6_Xw5v",
        "outputId": "3fbb6214-852f-47e9-a605-8fd75bf5e46f"
      },
      "outputs": [],
      "source": [
        "actual_stock_price = dataset_test.iloc[:,1:2].values\n",
        "print(dataset_test)"
      ]
    },
    {
      "cell_type": "code",
      "execution_count": null,
      "metadata": {
        "id": "_TR4zhpyXyJq"
      },
      "outputs": [],
      "source": [
        "dataset_total = pd.concat((dataset_train [ 'Open'], dataset_test['Open']), axis = 0)\n",
        "inputs = dataset_total [len(dataset_total)- len(dataset_test)-60:].values\n",
        "\n",
        "inputs = inputs.reshape(-1,1)\n",
        "inputs = scaler.transform(inputs)\n",
        "\n",
        "x_test = []\n",
        "for i in range(60,len(dataset_test)):\n",
        "  x_test.append(inputs [i-60:i, 0])\n",
        "x_test = np.array(x_test)\n",
        "x_test = np.reshape(x_test, (x_test.shape[0], x_test.shape[1], 1))"
      ]
    },
    {
      "cell_type": "code",
      "execution_count": null,
      "metadata": {
        "colab": {
          "base_uri": "https://localhost:8080/"
        },
        "id": "WxTvDyuXXzQu",
        "outputId": "4b3a8c2a-be15-473e-8df7-ac5bf1bdc828"
      },
      "outputs": [],
      "source": [
        "predicted_stock_price = regressor.predict(x_test)\n",
        "predicted_stock_price = scaler.inverse_transform(predicted_stock_price)"
      ]
    },
    {
      "cell_type": "code",
      "execution_count": null,
      "metadata": {
        "colab": {
          "base_uri": "https://localhost:8080/",
          "height": 498
        },
        "id": "M0cZd3P0X0gr",
        "outputId": "987258b2-67d7-4459-9c15-0aa91a9e47c4"
      },
      "outputs": [],
      "source": [
        "plt.plot(actual_stock_price, color = 'red', label = 'Actual Apple Stock Price') \n",
        "plt.plot(predicted_stock_price, color = 'blue', label = 'Predicted Apple Stock Price') \n",
        "plt.title('Apple Stock Price Prediction In Dollars ($)')\n",
        "plt.xlabel('Time (In Days)')\n",
        "plt.ylabel('Apple Stock Price')\n",
        "plt.legend() "
      ]
    },
    {
      "cell_type": "code",
      "execution_count": null,
      "metadata": {
        "colab": {
          "base_uri": "https://localhost:8080/",
          "height": 498
        },
        "id": "1RZsNQVRX2CF",
        "outputId": "2d179593-85e2-4c07-e8df-704c9ace50c9"
      },
      "outputs": [],
      "source": [
        "plt.plot(actual_stock_price, color = 'red', label = 'Actual Amazon Stock Price') \n",
        "plt.plot(predicted_stock_price, color = 'blue', label = 'Predicted Amazon Stock Price') \n",
        "plt.title('Amazon Stock Price Prediction In Dollars ($)')\n",
        "plt.xlabel('Time (In Days)')\n",
        "plt.ylabel('Amazon Stock Price') \n",
        "plt.legend()"
      ]
    }
  ],
  "metadata": {
    "accelerator": "GPU",
    "colab": {
      "gpuType": "T4",
      "provenance": []
    },
    "gpuClass": "standard",
    "kernelspec": {
      "display_name": "Python 3",
      "name": "python3"
    },
    "language_info": {
      "codemirror_mode": {
        "name": "ipython",
        "version": 3
      },
      "file_extension": ".py",
      "mimetype": "text/x-python",
      "name": "python",
      "nbconvert_exporter": "python",
      "pygments_lexer": "ipython3",
      "version": "3.9.16"
    }
  },
  "nbformat": 4,
  "nbformat_minor": 0
}
